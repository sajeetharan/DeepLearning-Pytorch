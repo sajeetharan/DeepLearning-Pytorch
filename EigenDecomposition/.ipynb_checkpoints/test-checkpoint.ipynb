{
 "nbformat": 4,
 "nbformat_minor": 2,
 "metadata": {
  "language_info": {
   "name": "python",
   "codemirror_mode": {
    "name": "ipython",
    "version": 3
   },
   "version": "3.7.4-final"
  },
  "orig_nbformat": 2,
  "file_extension": ".py",
  "mimetype": "text/x-python",
  "name": "python",
  "npconvert_exporter": "python",
  "pygments_lexer": "ipython3",
  "version": 3,
  "kernelspec": {
   "name": "python37464bitbaseconda661c3e5e57404263a113cbc679620202",
   "display_name": "Python 3.7.4 64-bit ('base': conda)"
  }
 },
 "cells": [
  {
   "cell_type": "code",
   "execution_count": 1,
   "metadata": {},
   "outputs": [],
   "source": [
    "import sys\n",
    "import numpy as np\n",
    "sys.path.append(\"C:\\\\Users\\\\suagrawa\\\\source\\\\Pytorch-DeepLearning\\\\EigenDecomposition\\\\pca-from-scratch-master\")"
   ]
  },
  {
   "cell_type": "code",
   "execution_count": 2,
   "metadata": {},
   "outputs": [],
   "source": [
    "import numpy as np\n",
    "import pca as p\n",
    "import compress as c"
   ]
  },
  {
   "cell_type": "code",
   "execution_count": 3,
   "metadata": {},
   "outputs": [],
   "source": [
    "TRAINING_DATA = \"C:/Users/suagrawa/source/Pytorch-DeepLearning/data/PCA/Train\"\n",
    "TEST_DATA = \"C:/Users/suagrawa/source/Pytorch-DeepLearning/data/PCA/Test/\""
   ]
  },
  {
   "cell_type": "code",
   "execution_count": 4,
   "metadata": {},
   "outputs": [],
   "source": [
    "X = c.load_data(TRAINING_DATA)"
   ]
  },
  {
   "cell_type": "code",
   "execution_count": 5,
   "metadata": {},
   "outputs": [
    {
     "output_type": "execute_result",
     "data": {
      "text/plain": "(array([[ 47,  79,  83, ...,  80,  77,  43],\n        [ 75, 128, 133, ..., 128, 122,  70],\n        [ 76, 130, 133, ..., 126, 123,  72],\n        ...,\n        [ 46,  88, 105, ...,  91, 100,  60],\n        [ 48,  93, 107, ..., 102, 104,  61],\n        [ 32,  58,  67, ...,  64,  65,  38]], dtype=uint8),\n '00002_930831_fa.pgm',\n array([47., 79., 83., ..., 64., 65., 38.]))"
     },
     "metadata": {},
     "execution_count": 5
    }
   ],
   "source": [
    "X[1]"
   ]
  },
  {
   "cell_type": "code",
   "execution_count": null,
   "metadata": {},
   "outputs": [],
   "source": []
  }
 ]
}