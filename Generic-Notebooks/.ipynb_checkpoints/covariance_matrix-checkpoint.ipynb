{
 "cells": [
  {
   "cell_type": "markdown",
   "metadata": {},
   "source": [
    "## Calculate Covariance matrix"
   ]
  },
  {
   "cell_type": "markdown",
   "metadata": {},
   "source": [
    "### 1. With Numpy (np.cov)"
   ]
  },
  {
   "cell_type": "code",
   "execution_count": 8,
   "metadata": {},
   "outputs": [],
   "source": [
    "import numpy as np"
   ]
  },
  {
   "cell_type": "markdown",
   "metadata": {},
   "source": [
    "### Defining a matric X with 3 observations and 5 parameters. Covariance matric will be created with n*n where n = number of parameters "
   ]
  },
  {
   "cell_type": "code",
   "execution_count": 9,
   "metadata": {},
   "outputs": [
    {
     "data": {
      "text/plain": [
       "array([[ 0.1,  0.3,  0.4,  0.8,  0.9],\n",
       "       [ 3.2,  2.4,  2.4,  0.1,  5.5],\n",
       "       [10. ,  8.2,  4.3,  2.6,  0.9]])"
      ]
     },
     "execution_count": 9,
     "metadata": {},
     "output_type": "execute_result"
    }
   ],
   "source": [
    "X = np.array([ [0.1, 0.3, 0.4, 0.8, 0.9],\n",
    "               [3.2, 2.4, 2.4, 0.1, 5.5],\n",
    "               [10., 8.2, 4.3, 2.6, 0.9]\n",
    "             ])\n",
    "X"
   ]
  },
  {
   "cell_type": "code",
   "execution_count": 10,
   "metadata": {},
   "outputs": [
    {
     "data": {
      "text/plain": [
       "array([[25.64333333, 20.69333333,  9.62166667,  5.44166667, -2.83666667],\n",
       "       [20.69333333, 16.74333333,  7.67166667,  4.54166667, -2.83666667],\n",
       "       [ 9.62166667,  7.67166667,  3.80333333,  1.72833333,  0.07666667],\n",
       "       [ 5.44166667,  4.54166667,  1.72833333,  1.66333333, -2.45333333],\n",
       "       [-2.83666667, -2.83666667,  0.07666667, -2.45333333,  7.05333333]])"
      ]
     },
     "execution_count": 10,
     "metadata": {},
     "output_type": "execute_result"
    }
   ],
   "source": [
    "np.cov(X.T)"
   ]
  },
  {
   "cell_type": "markdown",
   "metadata": {},
   "source": [
    "### 2. Dot product\n",
    "<br>\n",
    "<center>\n",
    "    $$Q_n = \\frac{1}{n}\\sum_{i=1}^{n} (x_i - \\bar{x})(x_i - \\bar{x})^T$$"
   ]
  },
  {
   "cell_type": "code",
   "execution_count": 11,
   "metadata": {},
   "outputs": [],
   "source": [
    "m = np.mean(X, axis=0, keepdims=True)"
   ]
  },
  {
   "cell_type": "code",
   "execution_count": 12,
   "metadata": {},
   "outputs": [
    {
     "data": {
      "text/plain": [
       "array([[4.43333333, 3.63333333, 2.36666667, 1.16666667, 2.43333333]])"
      ]
     },
     "execution_count": 12,
     "metadata": {},
     "output_type": "execute_result"
    }
   ],
   "source": [
    "m"
   ]
  },
  {
   "cell_type": "code",
   "execution_count": 13,
   "metadata": {},
   "outputs": [
    {
     "data": {
      "text/plain": [
       "array([[25.64333333, 20.69333333,  9.62166667,  5.44166667, -2.83666667],\n",
       "       [20.69333333, 16.74333333,  7.67166667,  4.54166667, -2.83666667],\n",
       "       [ 9.62166667,  7.67166667,  3.80333333,  1.72833333,  0.07666667],\n",
       "       [ 5.44166667,  4.54166667,  1.72833333,  1.66333333, -2.45333333],\n",
       "       [-2.83666667, -2.83666667,  0.07666667, -2.45333333,  7.05333333]])"
      ]
     },
     "execution_count": 13,
     "metadata": {},
     "output_type": "execute_result"
    }
   ],
   "source": [
    "x = np.dot((X - m).T, X - m) / (X.shape[0] - 1)\n",
    "x"
   ]
  },
  {
   "cell_type": "code",
   "execution_count": null,
   "metadata": {},
   "outputs": [],
   "source": []
  }
 ],
 "metadata": {
  "kernelspec": {
   "display_name": "Optimization-Python",
   "language": "python",
   "name": "optimization-python"
  },
  "language_info": {
   "codemirror_mode": {
    "name": "ipython",
    "version": 3
   },
   "file_extension": ".py",
   "mimetype": "text/x-python",
   "name": "python",
   "nbconvert_exporter": "python",
   "pygments_lexer": "ipython3",
   "version": "3.7.5"
  }
 },
 "nbformat": 4,
 "nbformat_minor": 4
}
