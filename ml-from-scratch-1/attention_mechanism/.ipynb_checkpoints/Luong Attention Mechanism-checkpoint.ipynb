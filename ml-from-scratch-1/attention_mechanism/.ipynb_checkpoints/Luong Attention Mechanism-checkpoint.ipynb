{
 "cells": [
  {
   "cell_type": "markdown",
   "metadata": {},
   "source": [
    "# Neural Machine Translation with Luong Attention Mechanism\n",
    "\n",
    "You will build a Neural Machine Translation (NMT) model to translate human readable dates (\"25th of June, 2009\") into machine readable dates (\"2009-06-25\"). You will do this using an attention model, one of the most sophisticated sequence to sequence models. "
   ]
  },
  {
   "cell_type": "code",
   "execution_count": null,
   "metadata": {},
   "outputs": [],
   "source": [
    "import numpy as np\n",
    "import tqdm\n",
    "from faker import Faker\n",
    "from babel.dates import format_date\n",
    "from nmt_utils import load_dataset_v2, preprocess_data, string_to_int, int_to_string, softmax\n",
    "import matplotlib.pyplot as plt\n",
    "%matplotlib inline\n",
    "from sklearn.model_selection import train_test_split\n",
    "import os"
   ]
  },
  {
   "cell_type": "markdown",
   "metadata": {},
   "source": [
    "## 1 - Translating human readable dates into machine readable dates\n",
    "\n",
    "The model you will build here could be used to translate from one language to another, such as translating from English to Hindi. However, language translation requires massive datasets and usually takes days of training on GPUs. To give you a place to experiment with these models even without using massive datasets, we will instead use a simpler \"date translation\" task. \n",
    "\n",
    "The network will input a date written in a variety of possible formats (*e.g. \"the 29th of August 1958\", \"03/30/1968\", \"24 JUNE 1987\"*) and translate them into standardized, machine readable dates (*e.g. \"1958-08-29\", \"1968-03-30\", \"1987-06-24\"*). We will have the network learn to output dates in the common machine-readable format YYYY-MM-DD. \n",
    "\n",
    "\n",
    "\n",
    "<!-- \n",
    "Take a look at [nmt_utils.py](./nmt_utils.py) to see all the formatting. Count and figure out how the formats work, you will need this knowledge later. !--> "
   ]
  },
  {
   "cell_type": "markdown",
   "metadata": {},
   "source": [
    "### 1.1 - Dataset\n",
    "\n",
    "We will train the model on a dataset of 60000 human readable dates and their equivalent, standardized, machine readable dates. Let's run the following cells to load the dataset and print some examples. "
   ]
  },
  {
   "cell_type": "code",
   "execution_count": null,
   "metadata": {},
   "outputs": [],
   "source": [
    "m = 60000\n",
    "dataset, human_vocab, machine_vocab, inv_machine_vocab = load_dataset_v2(m)"
   ]
  },
  {
   "cell_type": "code",
   "execution_count": null,
   "metadata": {},
   "outputs": [],
   "source": [
    "dataset[:10]"
   ]
  },
  {
   "cell_type": "code",
   "execution_count": null,
   "metadata": {},
   "outputs": [],
   "source": [
    "human_vocab"
   ]
  },
  {
   "cell_type": "code",
   "execution_count": null,
   "metadata": {
    "scrolled": true
   },
   "outputs": [],
   "source": [
    "machine_vocab"
   ]
  },
  {
   "cell_type": "markdown",
   "metadata": {},
   "source": [
    "You've loaded:\n",
    "- `dataset`: a list of tuples of (human readable date, machine readable date)\n",
    "- `human_vocab`: a python dictionary mapping all characters used in the human readable dates to an integer-valued index \n",
    "- `machine_vocab`: a python dictionary mapping all characters used in machine readable dates to an integer-valued index. These indices are not necessarily consistent with `human_vocab`. \n",
    "- `inv_machine_vocab`: the inverse dictionary of `machine_vocab`, mapping from indices back to characters. \n",
    "\n",
    "Let's preprocess the data and map the raw text data into the index values. We will also use Tx=30 (which we assume is the maximum length of the human readable date; if we get a longer input, we would have to truncate it) and Ty=10 (since \"YYYY-MM-DD\" is 10 characters long). "
   ]
  },
  {
   "cell_type": "code",
   "execution_count": null,
   "metadata": {},
   "outputs": [],
   "source": [
    "Tx = 30\n",
    "Ty = 10\n",
    "\n",
    "X, Y = preprocess_data(dataset, human_vocab, machine_vocab, Tx, Ty+1)\n",
    "\n",
    "X_train, X_val, Y_train, Y_val = train_test_split(X, Y, test_size=0.2)\n",
    "\n",
    "del X, Y\n",
    "\n",
    "print(\"X_train.shape:\", X_train.shape)\n",
    "print(\"Y_train.shape:\", Y_train.shape)"
   ]
  },
  {
   "cell_type": "markdown",
   "metadata": {},
   "source": [
    "## 2 - Neural machine translation with attention\n",
    "\n",
    "If you had to translate a book's paragraph from French to English, you would not read the whole paragraph, then close the book and translate. Even during the translation process, you would read/re-read and focus on the parts of the French paragraph corresponding to the parts of the English you are writing down. \n",
    "\n",
    "The attention mechanism tells a Neural Machine Translation model where it should pay attention to at any step. \n",
    "\n",
    "\n",
    "### Luong attention mechanism\n",
    "<img src=\"https://i.imgur.com/46R4XQV.png\" style=\"width:500;height:500px;\"> <br>\n",
    "\n",
    "<caption><center> Luong attention mechanism</center></caption>\n",
    "\n",
    "<img src=\"https://www.tensorflow.org/images/seq2seq/attention_equation_0.jpg\">\n",
    "\n",
    "<img src=\"https://www.tensorflow.org/images/seq2seq/attention_equation_1.jpg\">"
   ]
  },
  {
   "cell_type": "code",
   "execution_count": null,
   "metadata": {},
   "outputs": [],
   "source": [
    "import tensorflow as tf"
   ]
  },
  {
   "cell_type": "code",
   "execution_count": null,
   "metadata": {},
   "outputs": [],
   "source": [
    "tf.enable_eager_execution()\n",
    "\n",
    "L = tf.keras.layers"
   ]
  },
  {
   "cell_type": "code",
   "execution_count": null,
   "metadata": {},
   "outputs": [],
   "source": [
    "tf.keras.backend.clear_session()"
   ]
  },
  {
   "cell_type": "markdown",
   "metadata": {},
   "source": [
    "#### Define hyperparameter "
   ]
  },
  {
   "cell_type": "code",
   "execution_count": null,
   "metadata": {},
   "outputs": [],
   "source": [
    "WORD_EMBED_SIZE = 32\n",
    "ENCODER_LSTM_UNITS = 32\n",
    "DECODER_LSTM_UNITS = 32"
   ]
  },
  {
   "cell_type": "code",
   "execution_count": null,
   "metadata": {},
   "outputs": [],
   "source": [
    "def lstm(units):\n",
    "    if tf.test.is_gpu_available():\n",
    "        return L.CuDNNLSTM(units=units, return_sequences=True, return_state=True, recurrent_initializer=\"glorot_uniform\")\n",
    "    else:\n",
    "        return L.LSTM(units=units, return_sequences=True, return_state=True, recurrent_activation=\"sigmoid\", recurrent_initializer=\"glorot_uniform\")"
   ]
  },
  {
   "cell_type": "code",
   "execution_count": null,
   "metadata": {},
   "outputs": [],
   "source": [
    "class Encoder(tf.keras.Model):\n",
    "    \n",
    "    def __init__(self, len_vocab, embedding_size, lstm_units):\n",
    "        super(Encoder, self).__init__()\n",
    "        self.word_embed = L.Embedding(len_vocab, embedding_size)\n",
    "        self.lstm = lstm(lstm_units)\n",
    "        \n",
    "    def call(self, x, hidden):\n",
    "        x = self.word_embed(x)\n",
    "        output, h_state, c_state = self.lstm(x, initial_state=hidden)\n",
    "        return output, (h_state, c_state)"
   ]
  },
  {
   "cell_type": "code",
   "execution_count": null,
   "metadata": {},
   "outputs": [],
   "source": [
    "class Decoder(tf.keras.Model):\n",
    "    \n",
    "    def __init__(self, len_vocab, embedding_size, lstm_units):\n",
    "        super(Decoder, self).__init__()\n",
    "        self.embedding = L.Embedding(len_vocab, embedding_size)\n",
    "        self.lstm = lstm(lstm_units)\n",
    "        self.s1_score = L.Dense(units=DECODER_LSTM_UNITS)\n",
    "        self.s2_score = L.Dense(units=DECODER_LSTM_UNITS)\n",
    "        self.score = L.Dense(units=1)\n",
    "        self.context = L.Dot(axes=1)\n",
    "        self.attention = L.Dense(units=DECODER_LSTM_UNITS, activation=\"tanh\")\n",
    "        self.logits = L.Dense(units=len_vocab)\n",
    "\n",
    "    def call(self, x, hidden, encoder_output):\n",
    "        \"\"\"\n",
    "        Do computation when calling.\n",
    "        \n",
    "        Parameters\n",
    "        ----------\n",
    "        x: the input to RNN decoder. shape = (batch_size, 1)\n",
    "        hidden: initial hidden to current LSTM cell of decoder. shape = (batch_size, DECODER_LSTM_UNITS)\n",
    "        encoder_output: hidden state output at every step of encoder. \n",
    "                            shape = (batch_size, encoder_seq_length, ENCODER_LSTM_UNITS)\n",
    "        \"\"\"\n",
    "        # word_embed shape = (batch_size, 1, embedding_size)\n",
    "        word_embed = self.embedding(x) \n",
    "        \n",
    "        # h_decoder, h_state, c_state shape = (batch_size, 1, DECODER_LSTM_UNITS)\n",
    "        h_decoder, h_state, c_state = self.lstm(word_embed, initial_state=hidden)\n",
    "        \n",
    "        # score shape = (batch_size, encoder_seq_length, ENCODER_LSTM_UNITS)\n",
    "        score = tf.nn.tanh(self.s1_score(h_decoder) + self.s2_score(encoder_output))\n",
    "        score = self.score(score) # shape = (batch_size, encoder_seq_length, 1)\n",
    "\n",
    "        alignment = tf.nn.softmax(score, axis=1) # shape = (batch_size, encoder_seq_length, 1)\n",
    "        \n",
    "        context = self.context([alignment, encoder_output]) # shape = (batch_size, 1, ENCODER_LSTM_UNITS)\n",
    "        context = tf.reshape(context, shape=(-1, DECODER_LSTM_UNITS)) # shape = (batch_size, ENCODER_LSTM_UNITS)\n",
    "\n",
    "        attention = self.attention(tf.concat([context, h_state], axis=1)) # shape = (batch_size, DECODER_LSTM_UNITS)\n",
    "        out = self.logits(attention) # shape = (batch_size, len_vocab)\n",
    "        return out, (h_state, c_state)"
   ]
  },
  {
   "cell_type": "code",
   "execution_count": null,
   "metadata": {},
   "outputs": [],
   "source": [
    "optimizer = tf.train.AdamOptimizer(learning_rate=0.005, beta1=0.9, beta2=0.999)\n",
    "\n",
    "\n",
    "def loss_function(real, pred):\n",
    "    loss_ = tf.nn.sparse_softmax_cross_entropy_with_logits(labels=real, logits=pred)\n",
    "    return tf.reduce_mean(loss_)"
   ]
  },
  {
   "cell_type": "code",
   "execution_count": null,
   "metadata": {},
   "outputs": [],
   "source": [
    "encoder = Encoder(len(human_vocab), WORD_EMBED_SIZE, ENCODER_LSTM_UNITS)\n",
    "decoder = Decoder(len(machine_vocab), WORD_EMBED_SIZE//4, DECODER_LSTM_UNITS)"
   ]
  },
  {
   "cell_type": "code",
   "execution_count": null,
   "metadata": {},
   "outputs": [],
   "source": [
    "checkpoint_dir = './training_checkpoints'\n",
    "checkpoint_prefix = os.path.join(checkpoint_dir, \"ckpt\")\n",
    "checkpoint = tf.train.Checkpoint(optimizer=optimizer,\n",
    "                                 encoder=encoder,\n",
    "                                 decoder=decoder)"
   ]
  },
  {
   "cell_type": "code",
   "execution_count": null,
   "metadata": {},
   "outputs": [],
   "source": [
    "epochs = 5\n",
    "batch_size = 64\n",
    "\n",
    "num_batches_train = X_train.shape[0]//batch_size if X_train.shape[0] % batch_size == 0 else X_train.shape[0]//batch_size + 1\n",
    "\n",
    "num_batches_val = X_val.shape[0]//batch_size if X_val.shape[0] % batch_size == 0 else X_val.shape[0]//batch_size + 1\n",
    "\n",
    "val_loss_min = 1e6\n",
    "\n",
    "data_train = tf.concat([X_train, Y_train], axis=1)\n",
    "\n",
    "data_val = tf.concat([X_val, Y_val], axis=1)\n",
    "\n",
    "for e in range(epochs):\n",
    "    \n",
    "    data_train = tf.random.shuffle(data_train)\n",
    "    \n",
    "    X_train, Y_train = data_train[:, :Tx], data_train[:, Tx:]\n",
    "    \n",
    "    pbar = tqdm.tqdm_notebook(range(0, num_batches_train), desc=\"Epoch \" + str(e+1))\n",
    "    \n",
    "    train_loss = 0\n",
    "    \n",
    "    for it in pbar:\n",
    "        loss = 0\n",
    "        start = it*batch_size\n",
    "        end = (it+1)*batch_size\n",
    "        hidden = tf.zeros(shape=(end-start, ENCODER_LSTM_UNITS))\n",
    "        with tf.GradientTape() as tape:\n",
    "            encoder_output, encoder_hidden = encoder(X_train[start:end], (hidden, hidden))\n",
    "            decoder_hidden = encoder_hidden\n",
    "            for t in range(0, Y_train[start:end, :-1].shape[1]):\n",
    "                logits, decoder_hidden = decoder(tf.expand_dims(Y_train[start:end, t], axis=1), decoder_hidden, encoder_output)\n",
    "                loss += loss_function(Y_train[start:end, t+1], logits)\n",
    "    \n",
    "        batch_loss = (loss / int(Y_train[start:end, :-1].shape[1]))\n",
    "        \n",
    "        train_loss += batch_loss\n",
    "        \n",
    "        pbar.set_description(\"Epoch %s - Training loss: %f\" % (e+1, (train_loss / (it+1))))\n",
    "        \n",
    "        variables = encoder.variables + decoder.variables\n",
    "        \n",
    "        gradients = tape.gradient(loss, variables)\n",
    "        \n",
    "        optimizer.apply_gradients(zip(gradients, variables))\n",
    "    \n",
    "    val_loss = 0\n",
    "    \n",
    "    data_val = tf.random.shuffle(data_val)\n",
    "    \n",
    "    X_val, Y_val = data_val[:, :Tx], data_val[:, Tx:]\n",
    "    \n",
    "    for it in range(num_batches_val):\n",
    "        loss = 0\n",
    "        start = it*batch_size\n",
    "        end = (it+1)*batch_size\n",
    "        \n",
    "        hidden = tf.zeros(shape=(X_val[start:end].shape[0], ENCODER_LSTM_UNITS))\n",
    "        \n",
    "        encoder_output, encoder_hidden = encoder(X_val[start:end], (hidden, hidden))\n",
    "        decoder_hidden = encoder_hidden\n",
    "        for t in range(0, Y_val[start:end, :-1].shape[1]):\n",
    "            logits, decoder_hidden = decoder(tf.expand_dims(Y_val[start:end, t], axis=1), decoder_hidden, encoder_output)\n",
    "            loss += loss_function(Y_val[start:end, t+1], logits)\n",
    "\n",
    "        val_loss += (loss/int(Y_val[start:end, :-1].shape[1]))\n",
    "\n",
    "    print(\"Val loss: %f\" %  (float(val_loss)/int(num_batches_val)))\n",
    "    \n",
    "    if val_loss_min > val_loss:\n",
    "        val_loss_min = val_loss\n",
    "        checkpoint.save(file_prefix=checkpoint_prefix)\n"
   ]
  },
  {
   "cell_type": "markdown",
   "metadata": {},
   "source": [
    "You can now see the results on new examples."
   ]
  },
  {
   "cell_type": "code",
   "execution_count": null,
   "metadata": {},
   "outputs": [],
   "source": [
    "EXAMPLES = ['3 May 1979', '5 April 09', '21th of August 2016', 'Tue 10 Jul 2007', 'Saturday May 9 2018', 'March 3 2001', 'March 3rd 2001', '1 March 2001']\n",
    "\n",
    "for example in EXAMPLES:\n",
    "    source = string_to_int(example, Tx, human_vocab)\n",
    "    source = np.array([source])\n",
    "    \n",
    "    hidden = tf.zeros(shape=(1, ENCODER_LSTM_UNITS))\n",
    "\n",
    "    encoder_output, encoder_state = encoder(source, (hidden, hidden))\n",
    "    decoder_state = encoder_state\n",
    "    sentence = [machine_vocab[\"#\"]]\n",
    "    for t in range(Ty):\n",
    "        logits, decoder_state = decoder(np.array([[sentence[-1]]]), decoder_state, encoder_output)\n",
    "        prediction = softmax(logits)\n",
    "        prediction = np.argmax(prediction, axis=-1)\n",
    "        sentence.append(prediction[0])\n",
    "        \n",
    "    output = [inv_machine_vocab[s] for s in sentence[1:]]\n",
    "    \n",
    "    print(\"source:\", example)\n",
    "    print(\"output:\", ''.join(output))"
   ]
  }
 ],
 "metadata": {
  "coursera": {
   "course_slug": "nlp-sequence-models",
   "graded_item_id": "n16CQ",
   "launcher_item_id": "npjGi"
  },
  "kernelspec": {
   "display_name": "Python 3",
   "language": "python",
   "name": "python3"
  },
  "language_info": {
   "codemirror_mode": {
    "name": "ipython",
    "version": 3
   },
   "file_extension": ".py",
   "mimetype": "text/x-python",
   "name": "python",
   "nbconvert_exporter": "python",
   "pygments_lexer": "ipython3",
   "version": "3.7.3"
  }
 },
 "nbformat": 4,
 "nbformat_minor": 2
}
