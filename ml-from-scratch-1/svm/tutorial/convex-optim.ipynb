{
 "cells": [
  {
   "cell_type": "markdown",
   "metadata": {},
   "source": [
    "# Linear Programming"
   ]
  },
  {
   "cell_type": "markdown",
   "metadata": {},
   "source": [
    "$$\\mathbf{x} = arg\\;\\underset{\\mathbf{x}}{min}\\;c^T\\mathbf{x}$$\n",
    "subject to \n",
    "$$A\\mathbf{x} = b$$\n",
    "$$\\mathbf{x} \\succeq 0$$"
   ]
  },
  {
   "cell_type": "markdown",
   "metadata": {},
   "source": [
    "**Programming**\n",
    "\n",
    "$$(x, y)  = arg\\;\\underset{x,y}{max} \\;5x + 3y$$\n",
    "subject to\n",
    "$$x + y \\leq 10$$\n",
    "$$2x + y \\leq 16$$\n",
    "$$x + 4y \\leq 32$$\n",
    "$$x,y \\geq 0$$"
   ]
  },
  {
   "cell_type": "markdown",
   "metadata": {},
   "source": [
    "The constraints can be re-written under formula: $Gx \\preceq h$, where:\n",
    "$$G=\\begin{bmatrix}\n",
    "1 & 1 \\\\\n",
    "2 &  1 \\\\ \n",
    "1 & 4  \\\\ \n",
    "-1 & 0 \\\\ \n",
    "0 & -1 \\\\\n",
    "\\end{bmatrix}, \\;h = \\begin{bmatrix}\n",
    "10 \\\\ \n",
    "16 \\\\ \n",
    "32 \\\\ \n",
    "0 \\\\ \n",
    "0\n",
    "\\end{bmatrix}$$"
   ]
  },
  {
   "cell_type": "markdown",
   "metadata": {},
   "source": [
    "**CVXOPT Solution:**"
   ]
  },
  {
   "cell_type": "code",
   "execution_count": 8,
   "metadata": {},
   "outputs": [
    {
     "name": "stdout",
     "output_type": "stream",
     "text": [
      "Solution\"\n",
      "[ 6.00e+00]\n",
      "[ 4.00e+00]\n",
      "\n"
     ]
    }
   ],
   "source": [
    "from cvxopt import matrix, solvers\n",
    "c = matrix([-5., -3.])\n",
    "G = matrix([[1., 2., 1., -1., 0.], [1., 1., 4., 0., -1.]])\n",
    "h = matrix([10., 16., 32., 0., 0.])\n",
    "\n",
    "solvers.options['show_progress'] = False\n",
    "sol = solvers.lp(c, G, h)\n",
    "\n",
    "print('Solution\"')\n",
    "print(sol['x'])"
   ]
  },
  {
   "cell_type": "markdown",
   "metadata": {},
   "source": [
    "# Quadratic Programming (QP)"
   ]
  },
  {
   "cell_type": "markdown",
   "metadata": {},
   "source": [
    "**General formula**\n",
    "\n",
    "\\begin{equation}\n",
    "\\mathbf{x} = arg \\underset{\\mathbf{x}}{min} \\frac{1}{2}\\mathbf{x}^T\\mathbf{P}\\mathbf{x}+\\mathbf{q}^T\\mathbf{x}+\\mathbf{r}\n",
    "\\end{equation}\n",
    "subject to\n",
    "$$\\mathbf{G}\\mathbf{x} \\preceq \\mathbf{h}$$\n",
    "$$\\mathbf{A}\\mathbf{x}=\\mathbf{b}$$"
   ]
  },
  {
   "cell_type": "markdown",
   "metadata": {},
   "source": [
    "where $P \\in S_+^n$ (set of square matrices $\\succeq 0$ with $n$ columns), $G \\in \\mathbb{R}^{m\\times n}$, $A \\in \\mathbb{R}^{p\\times n}$"
   ]
  },
  {
   "cell_type": "markdown",
   "metadata": {},
   "source": [
    "### QP Example"
   ]
  },
  {
   "cell_type": "markdown",
   "metadata": {},
   "source": [
    "$$(x, y) = arg \\;\\underset{x,y}{min} \\;{(x-10)}^2 + {(y-10)}^2$$\n",
    "subject to \n",
    "$$\\begin{bmatrix}\n",
    "1 & 1 \\\\\n",
    "2 &  1 \\\\ \n",
    "1 & 4  \\\\ \n",
    "-1 & 0 \\\\ \n",
    "0 & -1 \\\\\n",
    "\\end{bmatrix}\\begin{bmatrix}\n",
    "x\\\\ \n",
    "y\n",
    "\\end{bmatrix}\n",
    "\\preceq \\begin{bmatrix}\n",
    "10\\\\ \n",
    "16\\\\ \n",
    "32\\\\ \n",
    "0\\\\ \n",
    "0\n",
    "\\end{bmatrix}$$"
   ]
  },
  {
   "cell_type": "markdown",
   "metadata": {},
   "source": [
    "_Example of distance from a point to a polyhedron_\n",
    "<img src=\"qp_ex.png\" alt=\"Drawing\" style=\"width: 400px;\"/>"
   ]
  },
  {
   "cell_type": "code",
   "execution_count": 9,
   "metadata": {},
   "outputs": [
    {
     "name": "stdout",
     "output_type": "stream",
     "text": [
      "Solution:\n",
      "[ 5.00e+00]\n",
      "[ 5.00e+00]\n",
      "\n"
     ]
    }
   ],
   "source": [
    "from cvxopt import matrix, solvers\n",
    "P = matrix([[1., 0.], [0., 1.]])\n",
    "q = matrix([-10., -10.])\n",
    "G = matrix([[1., 2., 1., -1., 0.], [1., 1., 4., 0., -1.]])\n",
    "h = matrix([10., 16., 32., 0., 0])\n",
    "\n",
    "solvers.options['show_progress'] = False\n",
    "sol = solvers.qp(P, q, G, h)\n",
    "\n",
    "print('Solution:')\n",
    "print(sol['x'])"
   ]
  },
  {
   "cell_type": "markdown",
   "metadata": {},
   "source": [
    "# Geometric Programming"
   ]
  },
  {
   "cell_type": "markdown",
   "metadata": {},
   "source": [
    "$$x = arg\\;\\underset{x}{min}\\;f_0(x)$$\n",
    "subject to \n",
    "$$f_i(x)\\leq1, \\;i=1,2,...,m$$\n",
    "$$h_j(x) = 1, \\;j=1,2,...,p$$\n",
    "\n",
    "where $f_0, f_1,.., f_m$ are posynomials and $h_1,...,h_p$ are monomials"
   ]
  },
  {
   "cell_type": "markdown",
   "metadata": {},
   "source": [
    "**Monomial function**\n",
    "$f:\\Re^n \\rightarrow \\Re$ with definite set $dom\\;f=\\Re^n_{++}$ has formula:\n",
    "$$f(x) = cx_1^{a_1}x_2^{a_2}...x_n^{a_n}$$\n",
    "with $c > 0$ and $a_i\\in\\Re$\n"
   ]
  },
  {
   "cell_type": "markdown",
   "metadata": {},
   "source": [
    "**Posynomial function**: sum of monomials\n",
    "$$f(x) = \\sum_{k=1}^{K}c_kx_1^{a_{1k}}x_2^{a_{2k}}...x_n^{a_{nk}}$$\n",
    "with $c_k > 0$\n",
    "\n",
    "\n"
   ]
  },
  {
   "cell_type": "code",
   "execution_count": 10,
   "metadata": {},
   "outputs": [
    {
     "name": "stdout",
     "output_type": "stream",
     "text": [
      "Solution:\n",
      "[[1.58489319]\n",
      " [1.58489319]\n",
      " [1.58489319]]\n",
      "\n",
      "checking sol^5\n",
      "[[9.9999998]\n",
      " [9.9999998]\n",
      " [9.9999998]]\n"
     ]
    }
   ],
   "source": [
    "from cvxopt import matrix, solvers\n",
    "from math import log, exp# gp\n",
    "from numpy import array\n",
    "import numpy as np\n",
    "\n",
    "K = [4]\n",
    "F = matrix([[-1., 1., 1., 0.],\n",
    "            [-1., 1., 0., 1.],\n",
    "            [-1., 0., 1., 1.]])\n",
    "g = matrix([log(40.), log(2.), log(2.), log(2.)])\n",
    "solvers.options['show_progress'] = False\n",
    "sol = solvers.gp(K, F, g)\n",
    "\n",
    "print('Solution:')\n",
    "print(np.exp(np.array(sol['x'])))\n",
    "\n",
    "print('\\nchecking sol^5')\n",
    "print(np.exp(np.array(sol['x']))**5)"
   ]
  },
  {
   "cell_type": "code",
   "execution_count": null,
   "metadata": {},
   "outputs": [],
   "source": []
  }
 ],
 "metadata": {
  "kernelspec": {
   "display_name": "Python 3",
   "language": "python",
   "name": "python3"
  },
  "language_info": {
   "codemirror_mode": {
    "name": "ipython",
    "version": 3
   },
   "file_extension": ".py",
   "mimetype": "text/x-python",
   "name": "python",
   "nbconvert_exporter": "python",
   "pygments_lexer": "ipython3",
   "version": "3.5.2"
  }
 },
 "nbformat": 4,
 "nbformat_minor": 2
}
